{
 "cells": [
  {
   "cell_type": "code",
   "execution_count": 2,
   "id": "f0491c6f",
   "metadata": {},
   "outputs": [],
   "source": [
    "import numpy as np\n",
    "import pandas as pd\n",
    "import json"
   ]
  },
  {
   "cell_type": "markdown",
   "id": "1a09d8b9",
   "metadata": {},
   "source": [
    "***Initial download and exploration of samsum dataset***"
   ]
  },
  {
   "cell_type": "code",
   "execution_count": 3,
   "id": "6efb8667",
   "metadata": {},
   "outputs": [],
   "source": [
    "with open('samsum/data/train.json', 'r') as f:\n",
    "    train = json.load(f)\n",
    "with open('samsum/data/test.json', 'r') as f:\n",
    "    test = json.load(f)\n",
    "with open('samsum/data/val.json', 'r') as f:\n",
    "    val = json.load(f)"
   ]
  },
  {
   "cell_type": "code",
   "execution_count": 4,
   "id": "82027b6f",
   "metadata": {},
   "outputs": [
    {
     "name": "stdout",
     "output_type": "stream",
     "text": [
      "Train size: 14732\n",
      "Test size:  819\n",
      "Val size:   818\n"
     ]
    }
   ],
   "source": [
    "print(f'''Train size: {len(train)}\n",
    "Test size:  {len(test)}\n",
    "Val size:   {len(val)}''')"
   ]
  },
  {
   "cell_type": "code",
   "execution_count": 5,
   "id": "49578322",
   "metadata": {},
   "outputs": [
    {
     "data": {
      "text/html": [
       "<div>\n",
       "<style scoped>\n",
       "    .dataframe tbody tr th:only-of-type {\n",
       "        vertical-align: middle;\n",
       "    }\n",
       "\n",
       "    .dataframe tbody tr th {\n",
       "        vertical-align: top;\n",
       "    }\n",
       "\n",
       "    .dataframe thead th {\n",
       "        text-align: right;\n",
       "    }\n",
       "</style>\n",
       "<table border=\"1\" class=\"dataframe\">\n",
       "  <thead>\n",
       "    <tr style=\"text-align: right;\">\n",
       "      <th></th>\n",
       "      <th>id</th>\n",
       "      <th>summary</th>\n",
       "      <th>dialogue</th>\n",
       "    </tr>\n",
       "  </thead>\n",
       "  <tbody>\n",
       "    <tr>\n",
       "      <th>0</th>\n",
       "      <td>13818513</td>\n",
       "      <td>Amanda baked cookies and will bring Jerry some...</td>\n",
       "      <td>Amanda: I baked  cookies. Do you want some?\\r\\...</td>\n",
       "    </tr>\n",
       "    <tr>\n",
       "      <th>1</th>\n",
       "      <td>13728867</td>\n",
       "      <td>Olivia and Olivier are voting for liberals in ...</td>\n",
       "      <td>Olivia: Who are you voting for in this electio...</td>\n",
       "    </tr>\n",
       "    <tr>\n",
       "      <th>2</th>\n",
       "      <td>13681000</td>\n",
       "      <td>Kim may try the pomodoro technique recommended...</td>\n",
       "      <td>Tim: Hi, what's up?\\r\\nKim: Bad mood tbh, I wa...</td>\n",
       "    </tr>\n",
       "    <tr>\n",
       "      <th>3</th>\n",
       "      <td>13730747</td>\n",
       "      <td>Edward thinks he is in love with Bella. Rachel...</td>\n",
       "      <td>Edward: Rachel, I think I'm in ove with Bella....</td>\n",
       "    </tr>\n",
       "    <tr>\n",
       "      <th>4</th>\n",
       "      <td>13728094</td>\n",
       "      <td>Sam is confused, because he overheard Rick com...</td>\n",
       "      <td>Sam: hey  overheard rick say something\\r\\nSam:...</td>\n",
       "    </tr>\n",
       "  </tbody>\n",
       "</table>\n",
       "</div>"
      ],
      "text/plain": [
       "         id                                            summary  \\\n",
       "0  13818513  Amanda baked cookies and will bring Jerry some...   \n",
       "1  13728867  Olivia and Olivier are voting for liberals in ...   \n",
       "2  13681000  Kim may try the pomodoro technique recommended...   \n",
       "3  13730747  Edward thinks he is in love with Bella. Rachel...   \n",
       "4  13728094  Sam is confused, because he overheard Rick com...   \n",
       "\n",
       "                                            dialogue  \n",
       "0  Amanda: I baked  cookies. Do you want some?\\r\\...  \n",
       "1  Olivia: Who are you voting for in this electio...  \n",
       "2  Tim: Hi, what's up?\\r\\nKim: Bad mood tbh, I wa...  \n",
       "3  Edward: Rachel, I think I'm in ove with Bella....  \n",
       "4  Sam: hey  overheard rick say something\\r\\nSam:...  "
      ]
     },
     "metadata": {},
     "output_type": "display_data"
    },
    {
     "data": {
      "text/plain": [
       "id          0\n",
       "summary     0\n",
       "dialogue    0\n",
       "dtype: int64"
      ]
     },
     "metadata": {},
     "output_type": "display_data"
    }
   ],
   "source": [
    "sam_train = pd.DataFrame(train)\n",
    "sam_test = pd.DataFrame(test)\n",
    "sam_val = pd.DataFrame(val)\n",
    "\n",
    "display(sam_train.head())\n",
    "display(sam_train.isna().sum())"
   ]
  },
  {
   "cell_type": "code",
   "execution_count": 6,
   "id": "12a1fd0a",
   "metadata": {},
   "outputs": [
    {
     "name": "stdout",
     "output_type": "stream",
     "text": [
      "Dialogue:\n",
      "Jean: Is anybody in Brussels now?\n",
      "Terry: I'm here\n",
      "Terry: But I'm leaving tomorrow morning\n",
      "Theresa: I'm heading to Brussels again tomorrow\n",
      "Jean: ahahah, just like Theresa May, and also not happy it seems\n",
      "Terry: 🤣🤣🤣\n",
      "Theresa: hahah, indeed not excited \n",
      "Jean: to negotiate a deal?\n",
      "Theresa: not really\n",
      "Theresa: However, marriage is a kind of a deal! right?\n",
      "Terry: Sure, it is\n",
      "Theresa: We're marring with Paul on Friday\n",
      "Terry: what??? And I don't know anything? 😱\n",
      "Theresa: it's only to get the Belgian citizenship after Brexit, pure formality, no party, not even parents evolved\n",
      "Jean: We can at least have some drinks Friday night\n",
      "Theresa: With pleasure, let's celebrate a fake wedding with a fake party 😛\n",
      "\n",
      "Summary\n",
      "Terry is in Brussels, he's leaving tomorrow morning. Theresa is going to Brussels again tomorrow. She's marrying Paul on Friday as a formality to get the Belgian citizenship after Brexit. Jean will celebrate with Theresa on Friday night. \n"
     ]
    }
   ],
   "source": [
    "ex = sam_train.iloc[np.random.randint(0, len(train)-1)]\n",
    "\n",
    "print('Dialogue:')\n",
    "print(ex.dialogue)\n",
    "print()\n",
    "print('Summary')\n",
    "print(ex.summary)\n"
   ]
  },
  {
   "cell_type": "markdown",
   "id": "21d69442",
   "metadata": {},
   "source": [
    "***Initial download and exploration of dialoguesum dataset***"
   ]
  },
  {
   "cell_type": "code",
   "execution_count": 7,
   "id": "f5e77326",
   "metadata": {},
   "outputs": [
    {
     "data": {
      "text/html": [
       "<div>\n",
       "<style scoped>\n",
       "    .dataframe tbody tr th:only-of-type {\n",
       "        vertical-align: middle;\n",
       "    }\n",
       "\n",
       "    .dataframe tbody tr th {\n",
       "        vertical-align: top;\n",
       "    }\n",
       "\n",
       "    .dataframe thead th {\n",
       "        text-align: right;\n",
       "    }\n",
       "</style>\n",
       "<table border=\"1\" class=\"dataframe\">\n",
       "  <thead>\n",
       "    <tr style=\"text-align: right;\">\n",
       "      <th></th>\n",
       "      <th>id</th>\n",
       "      <th>dialogue</th>\n",
       "      <th>summary</th>\n",
       "      <th>topic</th>\n",
       "    </tr>\n",
       "  </thead>\n",
       "  <tbody>\n",
       "    <tr>\n",
       "      <th>0</th>\n",
       "      <td>train_0</td>\n",
       "      <td>#Person1#: Hi, Mr. Smith. I'm Doctor Hawkins. ...</td>\n",
       "      <td>Mr. Smith's getting a check-up, and Doctor Haw...</td>\n",
       "      <td>get a check-up</td>\n",
       "    </tr>\n",
       "    <tr>\n",
       "      <th>1</th>\n",
       "      <td>train_1</td>\n",
       "      <td>#Person1#: Hello Mrs. Parker, how have you bee...</td>\n",
       "      <td>Mrs Parker takes Ricky for his vaccines. Dr. P...</td>\n",
       "      <td>vaccines</td>\n",
       "    </tr>\n",
       "    <tr>\n",
       "      <th>2</th>\n",
       "      <td>train_2</td>\n",
       "      <td>#Person1#: Excuse me, did you see a set of key...</td>\n",
       "      <td>#Person1#'s looking for a set of keys and asks...</td>\n",
       "      <td>find keys</td>\n",
       "    </tr>\n",
       "    <tr>\n",
       "      <th>3</th>\n",
       "      <td>train_3</td>\n",
       "      <td>#Person1#: Why didn't you tell me you had a gi...</td>\n",
       "      <td>#Person1#'s angry because #Person2# didn't tel...</td>\n",
       "      <td>have a girlfriend</td>\n",
       "    </tr>\n",
       "    <tr>\n",
       "      <th>4</th>\n",
       "      <td>train_4</td>\n",
       "      <td>#Person1#: Watsup, ladies! Y'll looking'fine t...</td>\n",
       "      <td>Malik invites Nikki to dance. Nikki agrees if ...</td>\n",
       "      <td>dance</td>\n",
       "    </tr>\n",
       "  </tbody>\n",
       "</table>\n",
       "</div>"
      ],
      "text/plain": [
       "        id                                           dialogue  \\\n",
       "0  train_0  #Person1#: Hi, Mr. Smith. I'm Doctor Hawkins. ...   \n",
       "1  train_1  #Person1#: Hello Mrs. Parker, how have you bee...   \n",
       "2  train_2  #Person1#: Excuse me, did you see a set of key...   \n",
       "3  train_3  #Person1#: Why didn't you tell me you had a gi...   \n",
       "4  train_4  #Person1#: Watsup, ladies! Y'll looking'fine t...   \n",
       "\n",
       "                                             summary              topic  \n",
       "0  Mr. Smith's getting a check-up, and Doctor Haw...     get a check-up  \n",
       "1  Mrs Parker takes Ricky for his vaccines. Dr. P...           vaccines  \n",
       "2  #Person1#'s looking for a set of keys and asks...          find keys  \n",
       "3  #Person1#'s angry because #Person2# didn't tel...  have a girlfriend  \n",
       "4  Malik invites Nikki to dance. Nikki agrees if ...              dance  "
      ]
     },
     "metadata": {},
     "output_type": "display_data"
    },
    {
     "data": {
      "text/plain": [
       "id          0\n",
       "dialogue    0\n",
       "summary     0\n",
       "topic       0\n",
       "dtype: int64"
      ]
     },
     "metadata": {},
     "output_type": "display_data"
    }
   ],
   "source": [
    "da_train = pd.read_csv('dialoguesum/train.csv')\n",
    "da_test = pd.read_csv('dialoguesum/test.csv')\n",
    "da_val = pd.read_csv('dialoguesum/validation.csv')\n",
    "da_hold = pd.read_csv('dialoguesum/holdout.csv')\n",
    "\n",
    "display(da_train.head())\n",
    "display(da_train.isna().sum())"
   ]
  },
  {
   "cell_type": "code",
   "execution_count": 8,
   "id": "d611af70",
   "metadata": {},
   "outputs": [
    {
     "name": "stdout",
     "output_type": "stream",
     "text": [
      "#Person1#: Do you want to go to sleep, or do you want to stay up and watch a movie? I'm pretty tired, but I'm always up for a horror movie. It is Halloween, after all...\n",
      "#Person2#: I'd love to, but not tonight. I ate too much candy, and I'm so exhausted from trick-or-treating all night with the boys from the neighborhood. I need to rest!\n",
      "\n",
      "#Person1# would like to see a horror movie but #Person2# is too tired from trick-or-treating and needs a rest.\n"
     ]
    }
   ],
   "source": [
    "ex2 = da_train.iloc[np.random.randint(0, len(da_train)-1)]\n",
    "print(ex2.dialogue)\n",
    "print()\n",
    "print(ex2.summary)"
   ]
  },
  {
   "cell_type": "markdown",
   "id": "983a95db",
   "metadata": {},
   "source": [
    "The samsum and dialoguesum datasets seem to have a very similar format. Dialoguesum just has an extra \"topic\" column that doesn't contain very much information. We'll drop this \"topic\" column and combine the samsum and dialoguesum datasets into one."
   ]
  },
  {
   "cell_type": "code",
   "execution_count": 11,
   "id": "c7c14cdc",
   "metadata": {},
   "outputs": [
    {
     "data": {
      "text/html": [
       "<div>\n",
       "<style scoped>\n",
       "    .dataframe tbody tr th:only-of-type {\n",
       "        vertical-align: middle;\n",
       "    }\n",
       "\n",
       "    .dataframe tbody tr th {\n",
       "        vertical-align: top;\n",
       "    }\n",
       "\n",
       "    .dataframe thead th {\n",
       "        text-align: right;\n",
       "    }\n",
       "</style>\n",
       "<table border=\"1\" class=\"dataframe\">\n",
       "  <thead>\n",
       "    <tr style=\"text-align: right;\">\n",
       "      <th></th>\n",
       "      <th>id</th>\n",
       "      <th>summary</th>\n",
       "      <th>dialogue</th>\n",
       "    </tr>\n",
       "  </thead>\n",
       "  <tbody>\n",
       "    <tr>\n",
       "      <th>0</th>\n",
       "      <td>13818513</td>\n",
       "      <td>Amanda baked cookies and will bring Jerry some...</td>\n",
       "      <td>Amanda: I baked  cookies. Do you want some?\\r\\...</td>\n",
       "    </tr>\n",
       "    <tr>\n",
       "      <th>1</th>\n",
       "      <td>13728867</td>\n",
       "      <td>Olivia and Olivier are voting for liberals in ...</td>\n",
       "      <td>Olivia: Who are you voting for in this electio...</td>\n",
       "    </tr>\n",
       "    <tr>\n",
       "      <th>2</th>\n",
       "      <td>13681000</td>\n",
       "      <td>Kim may try the pomodoro technique recommended...</td>\n",
       "      <td>Tim: Hi, what's up?\\r\\nKim: Bad mood tbh, I wa...</td>\n",
       "    </tr>\n",
       "    <tr>\n",
       "      <th>3</th>\n",
       "      <td>13730747</td>\n",
       "      <td>Edward thinks he is in love with Bella. Rachel...</td>\n",
       "      <td>Edward: Rachel, I think I'm in ove with Bella....</td>\n",
       "    </tr>\n",
       "    <tr>\n",
       "      <th>4</th>\n",
       "      <td>13728094</td>\n",
       "      <td>Sam is confused, because he overheard Rick com...</td>\n",
       "      <td>Sam: hey  overheard rick say something\\r\\nSam:...</td>\n",
       "    </tr>\n",
       "  </tbody>\n",
       "</table>\n",
       "</div>"
      ],
      "text/plain": [
       "         id                                            summary  \\\n",
       "0  13818513  Amanda baked cookies and will bring Jerry some...   \n",
       "1  13728867  Olivia and Olivier are voting for liberals in ...   \n",
       "2  13681000  Kim may try the pomodoro technique recommended...   \n",
       "3  13730747  Edward thinks he is in love with Bella. Rachel...   \n",
       "4  13728094  Sam is confused, because he overheard Rick com...   \n",
       "\n",
       "                                            dialogue  \n",
       "0  Amanda: I baked  cookies. Do you want some?\\r\\...  \n",
       "1  Olivia: Who are you voting for in this electio...  \n",
       "2  Tim: Hi, what's up?\\r\\nKim: Bad mood tbh, I wa...  \n",
       "3  Edward: Rachel, I think I'm in ove with Bella....  \n",
       "4  Sam: hey  overheard rick say something\\r\\nSam:...  "
      ]
     },
     "metadata": {},
     "output_type": "display_data"
    },
    {
     "name": "stdout",
     "output_type": "stream",
     "text": [
      "27192\n"
     ]
    },
    {
     "data": {
      "text/html": [
       "<div>\n",
       "<style scoped>\n",
       "    .dataframe tbody tr th:only-of-type {\n",
       "        vertical-align: middle;\n",
       "    }\n",
       "\n",
       "    .dataframe tbody tr th {\n",
       "        vertical-align: top;\n",
       "    }\n",
       "\n",
       "    .dataframe thead th {\n",
       "        text-align: right;\n",
       "    }\n",
       "</style>\n",
       "<table border=\"1\" class=\"dataframe\">\n",
       "  <thead>\n",
       "    <tr style=\"text-align: right;\">\n",
       "      <th></th>\n",
       "      <th>id</th>\n",
       "      <th>summary</th>\n",
       "      <th>dialogue</th>\n",
       "    </tr>\n",
       "  </thead>\n",
       "  <tbody>\n",
       "    <tr>\n",
       "      <th>0</th>\n",
       "      <td>13817023</td>\n",
       "      <td>A will go to the animal shelter tomorrow to ge...</td>\n",
       "      <td>A: Hi Tom, are you busy tomorrow’s afternoon?\\...</td>\n",
       "    </tr>\n",
       "    <tr>\n",
       "      <th>1</th>\n",
       "      <td>13716628</td>\n",
       "      <td>Emma and Rob love the advent calendar. Lauren ...</td>\n",
       "      <td>Emma: I’ve just fallen in love with this adven...</td>\n",
       "    </tr>\n",
       "    <tr>\n",
       "      <th>2</th>\n",
       "      <td>13829420</td>\n",
       "      <td>Madison is pregnant but she doesn't want to ta...</td>\n",
       "      <td>Jackie: Madison is pregnant\\r\\nJackie: but she...</td>\n",
       "    </tr>\n",
       "    <tr>\n",
       "      <th>3</th>\n",
       "      <td>13819648</td>\n",
       "      <td>Marla found a pair of boxers under her bed.</td>\n",
       "      <td>Marla: &lt;file_photo&gt;\\r\\nMarla: look what I foun...</td>\n",
       "    </tr>\n",
       "    <tr>\n",
       "      <th>4</th>\n",
       "      <td>13728448</td>\n",
       "      <td>Robert wants Fred to send him the address of t...</td>\n",
       "      <td>Robert: Hey give me the address of this music ...</td>\n",
       "    </tr>\n",
       "  </tbody>\n",
       "</table>\n",
       "</div>"
      ],
      "text/plain": [
       "         id                                            summary  \\\n",
       "0  13817023  A will go to the animal shelter tomorrow to ge...   \n",
       "1  13716628  Emma and Rob love the advent calendar. Lauren ...   \n",
       "2  13829420  Madison is pregnant but she doesn't want to ta...   \n",
       "3  13819648        Marla found a pair of boxers under her bed.   \n",
       "4  13728448  Robert wants Fred to send him the address of t...   \n",
       "\n",
       "                                            dialogue  \n",
       "0  A: Hi Tom, are you busy tomorrow’s afternoon?\\...  \n",
       "1  Emma: I’ve just fallen in love with this adven...  \n",
       "2  Jackie: Madison is pregnant\\r\\nJackie: but she...  \n",
       "3  Marla: <file_photo>\\r\\nMarla: look what I foun...  \n",
       "4  Robert: Hey give me the address of this music ...  "
      ]
     },
     "metadata": {},
     "output_type": "display_data"
    },
    {
     "name": "stdout",
     "output_type": "stream",
     "text": [
      "1318\n"
     ]
    },
    {
     "data": {
      "text/html": [
       "<div>\n",
       "<style scoped>\n",
       "    .dataframe tbody tr th:only-of-type {\n",
       "        vertical-align: middle;\n",
       "    }\n",
       "\n",
       "    .dataframe tbody tr th {\n",
       "        vertical-align: top;\n",
       "    }\n",
       "\n",
       "    .dataframe thead th {\n",
       "        text-align: right;\n",
       "    }\n",
       "</style>\n",
       "<table border=\"1\" class=\"dataframe\">\n",
       "  <thead>\n",
       "    <tr style=\"text-align: right;\">\n",
       "      <th></th>\n",
       "      <th>id</th>\n",
       "      <th>summary</th>\n",
       "      <th>dialogue</th>\n",
       "    </tr>\n",
       "  </thead>\n",
       "  <tbody>\n",
       "    <tr>\n",
       "      <th>0</th>\n",
       "      <td>13862856</td>\n",
       "      <td>Hannah needs Betty's number but Amanda doesn't...</td>\n",
       "      <td>Hannah: Hey, do you have Betty's number?\\nAman...</td>\n",
       "    </tr>\n",
       "    <tr>\n",
       "      <th>1</th>\n",
       "      <td>13729565</td>\n",
       "      <td>Eric and Rob are going to watch a stand-up on ...</td>\n",
       "      <td>Eric: MACHINE!\\r\\nRob: That's so gr8!\\r\\nEric:...</td>\n",
       "    </tr>\n",
       "    <tr>\n",
       "      <th>2</th>\n",
       "      <td>13680171</td>\n",
       "      <td>Lenny can't decide which trousers to buy. Bob ...</td>\n",
       "      <td>Lenny: Babe, can you help me with something?\\r...</td>\n",
       "    </tr>\n",
       "    <tr>\n",
       "      <th>3</th>\n",
       "      <td>13729438</td>\n",
       "      <td>Emma will be home soon and she will let Will k...</td>\n",
       "      <td>Will: hey babe, what do you want for dinner to...</td>\n",
       "    </tr>\n",
       "    <tr>\n",
       "      <th>4</th>\n",
       "      <td>13828600</td>\n",
       "      <td>Jane is in Warsaw. Ollie and Jane has a party....</td>\n",
       "      <td>Ollie: Hi , are you in Warsaw\\r\\nJane: yes, ju...</td>\n",
       "    </tr>\n",
       "  </tbody>\n",
       "</table>\n",
       "</div>"
      ],
      "text/plain": [
       "         id                                            summary  \\\n",
       "0  13862856  Hannah needs Betty's number but Amanda doesn't...   \n",
       "1  13729565  Eric and Rob are going to watch a stand-up on ...   \n",
       "2  13680171  Lenny can't decide which trousers to buy. Bob ...   \n",
       "3  13729438  Emma will be home soon and she will let Will k...   \n",
       "4  13828600  Jane is in Warsaw. Ollie and Jane has a party....   \n",
       "\n",
       "                                            dialogue  \n",
       "0  Hannah: Hey, do you have Betty's number?\\nAman...  \n",
       "1  Eric: MACHINE!\\r\\nRob: That's so gr8!\\r\\nEric:...  \n",
       "2  Lenny: Babe, can you help me with something?\\r...  \n",
       "3  Will: hey babe, what do you want for dinner to...  \n",
       "4  Ollie: Hi , are you in Warsaw\\r\\nJane: yes, ju...  "
      ]
     },
     "metadata": {},
     "output_type": "display_data"
    },
    {
     "name": "stdout",
     "output_type": "stream",
     "text": [
      "2419\n"
     ]
    }
   ],
   "source": [
    "df_train = pd.concat([sam_train, da_train.drop('topic', axis=1)], axis=0)\n",
    "df_val = pd.concat([sam_val, da_val.drop('topic', axis=1)], axis=0)\n",
    "df_test = pd.concat([sam_test, da_test.drop('topic', axis=1), da_hold.drop('topic', axis=1)], axis=0)\n",
    "\n",
    "display(df_train.head())\n",
    "print(len(df_train))\n",
    "\n",
    "display(df_val.head())\n",
    "print(len(df_val))\n",
    "\n",
    "display(df_test.head())\n",
    "print(len(df_test))"
   ]
  },
  {
   "cell_type": "code",
   "execution_count": 13,
   "id": "653a1d00",
   "metadata": {},
   "outputs": [],
   "source": [
    "#df_train.to_csv('train.csv')\n",
    "#df_val.to_csv('val.csv')\n",
    "#df_test.to_csv('test.csv')"
   ]
  },
  {
   "cell_type": "code",
   "execution_count": null,
   "id": "69b6c849",
   "metadata": {},
   "outputs": [],
   "source": []
  }
 ],
 "metadata": {
  "kernelspec": {
   "display_name": "Python 3",
   "language": "python",
   "name": "python3"
  },
  "language_info": {
   "codemirror_mode": {
    "name": "ipython",
    "version": 3
   },
   "file_extension": ".py",
   "mimetype": "text/x-python",
   "name": "python",
   "nbconvert_exporter": "python",
   "pygments_lexer": "ipython3",
   "version": "3.12.8"
  }
 },
 "nbformat": 4,
 "nbformat_minor": 5
}
